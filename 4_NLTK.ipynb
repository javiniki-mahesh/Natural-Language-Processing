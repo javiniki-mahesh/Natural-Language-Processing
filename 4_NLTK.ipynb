{
  "nbformat": 4,
  "nbformat_minor": 0,
  "metadata": {
    "colab": {
      "provenance": [],
      "authorship_tag": "ABX9TyNFoXTSnbnrmK1EDS4cB1TA",
      "include_colab_link": true
    },
    "kernelspec": {
      "name": "python3",
      "display_name": "Python 3"
    },
    "language_info": {
      "name": "python"
    }
  },
  "cells": [
    {
      "cell_type": "markdown",
      "metadata": {
        "id": "view-in-github",
        "colab_type": "text"
      },
      "source": [
        "<a href=\"https://colab.research.google.com/github/javiniki-mahesh/Natural-Language-Processing/blob/main/4_NLTK.ipynb\" target=\"_parent\"><img src=\"https://colab.research.google.com/assets/colab-badge.svg\" alt=\"Open In Colab\"/></a>"
      ]
    },
    {
      "cell_type": "markdown",
      "source": [
        "4. Write a Python NLTK program to create a list of words from a given string."
      ],
      "metadata": {
        "id": "rQHDHtHOQdEL"
      }
    },
    {
      "cell_type": "code",
      "execution_count": null,
      "metadata": {
        "id": "9WoCEYp4PqY-"
      },
      "outputs": [],
      "source": [
        "text = \"Book radeing is not just a habit, it ljsd, l4 0 *L kj3&( KLF*FLKJ\""
      ]
    },
    {
      "cell_type": "code",
      "source": [
        "print(text)"
      ],
      "metadata": {
        "colab": {
          "base_uri": "https://localhost:8080/"
        },
        "id": "02tSYCyDQqCK",
        "outputId": "d99fc556-2da5-4c28-b5cd-04cae9598eee"
      },
      "execution_count": null,
      "outputs": [
        {
          "output_type": "stream",
          "name": "stdout",
          "text": [
            "Book radeing is not just a habit, it ljsd, l4 0 *L kj3&( KLF*FLKJ\n"
          ]
        }
      ]
    },
    {
      "cell_type": "code",
      "source": [
        "from nltk.tokenize import word_tokenize"
      ],
      "metadata": {
        "id": "cug-nie8Qqy5"
      },
      "execution_count": null,
      "outputs": []
    },
    {
      "cell_type": "code",
      "source": [
        "import nltk\n",
        "nltk.download('punkt')"
      ],
      "metadata": {
        "colab": {
          "base_uri": "https://localhost:8080/"
        },
        "id": "LYs01I_uQ_CG",
        "outputId": "09be5892-1dc5-4c05-bf94-430c7dc8cde8"
      },
      "execution_count": null,
      "outputs": [
        {
          "output_type": "stream",
          "name": "stderr",
          "text": [
            "[nltk_data] Downloading package punkt to /root/nltk_data...\n",
            "[nltk_data]   Package punkt is already up-to-date!\n"
          ]
        },
        {
          "output_type": "execute_result",
          "data": {
            "text/plain": [
              "True"
            ]
          },
          "metadata": {},
          "execution_count": 19
        }
      ]
    },
    {
      "cell_type": "code",
      "source": [
        "word_tokens = word_tokenize(text)\n",
        "print(word_tokens)"
      ],
      "metadata": {
        "colab": {
          "base_uri": "https://localhost:8080/"
        },
        "id": "d884fFldQxth",
        "outputId": "6cd2c453-9358-4580-dcba-88b284db8b11"
      },
      "execution_count": null,
      "outputs": [
        {
          "output_type": "stream",
          "name": "stdout",
          "text": [
            "['Book', 'radeing', 'is', 'not', 'just', 'a', 'habit', ',', 'it', 'ljsd', ',', 'l4', '0', '*', 'L', 'kj3', '&', '(', 'KLF', '*', 'FLKJ']\n"
          ]
        }
      ]
    },
    {
      "cell_type": "code",
      "source": [
        "for word in word_tokens:\n",
        "  print(word)"
      ],
      "metadata": {
        "colab": {
          "base_uri": "https://localhost:8080/"
        },
        "id": "OXyH53OJQ6Op",
        "outputId": "aa9cfc8b-fa34-424c-d837-235fa171b0f2"
      },
      "execution_count": null,
      "outputs": [
        {
          "output_type": "stream",
          "name": "stdout",
          "text": [
            "Book\n",
            "radeing\n",
            "is\n",
            "not\n",
            "just\n",
            "a\n",
            "habit\n",
            ",\n",
            "it\n",
            "ljsd\n",
            ",\n",
            "l4\n",
            "0\n",
            "*\n",
            "L\n",
            "kj3\n",
            "&\n",
            "(\n",
            "KLF\n",
            "*\n",
            "FLKJ\n"
          ]
        }
      ]
    },
    {
      "cell_type": "code",
      "source": [
        "text1 = \"\"\"\n",
        "mahesh\n",
        "kalyan\n",
        "sudhakar\n",
        "\"\"\""
      ],
      "metadata": {
        "id": "p2PdbhA_RgBJ"
      },
      "execution_count": null,
      "outputs": []
    },
    {
      "cell_type": "code",
      "source": [
        "print(text1)"
      ],
      "metadata": {
        "colab": {
          "base_uri": "https://localhost:8080/"
        },
        "id": "sw0cy7EpRpfG",
        "outputId": "2a1e0dec-4487-4b07-f5b5-5bebf53c2a9c"
      },
      "execution_count": null,
      "outputs": [
        {
          "output_type": "stream",
          "name": "stdout",
          "text": [
            "\n",
            "mahesh\n",
            "kalyan\n",
            "sudhakar\n",
            "\n"
          ]
        }
      ]
    },
    {
      "cell_type": "code",
      "source": [
        "word_tokens = word_tokenize(text1)\n",
        "print(word_tokens)"
      ],
      "metadata": {
        "colab": {
          "base_uri": "https://localhost:8080/"
        },
        "id": "2GlMOXx9SIEZ",
        "outputId": "e8509bd9-f2f6-46b3-8e38-aa03cd358a03"
      },
      "execution_count": null,
      "outputs": [
        {
          "output_type": "stream",
          "name": "stdout",
          "text": [
            "['mahesh', 'kalyan', 'sudhakar']\n"
          ]
        }
      ]
    },
    {
      "cell_type": "code",
      "source": [
        "for word in word_tokens:\n",
        "  print(word)"
      ],
      "metadata": {
        "colab": {
          "base_uri": "https://localhost:8080/"
        },
        "id": "LE_pp-XhSRX5",
        "outputId": "0aa1d342-cc65-49f4-b33a-09dcde539ab3"
      },
      "execution_count": null,
      "outputs": [
        {
          "output_type": "stream",
          "name": "stdout",
          "text": [
            "mahesh\n",
            "kalyan\n",
            "sudhakar\n"
          ]
        }
      ]
    },
    {
      "cell_type": "code",
      "source": [
        "text2 = '''\n",
        "kalyan, mahesh, Teja.\n",
        "These 3 people did $ome am@azing !ork in the^r lif#\n",
        "at *he end) the (redited'''"
      ],
      "metadata": {
        "id": "5YD1tFIUSUNB"
      },
      "execution_count": null,
      "outputs": []
    },
    {
      "cell_type": "code",
      "source": [],
      "metadata": {
        "id": "JNy_5D00Suro"
      },
      "execution_count": null,
      "outputs": []
    }
  ]
}